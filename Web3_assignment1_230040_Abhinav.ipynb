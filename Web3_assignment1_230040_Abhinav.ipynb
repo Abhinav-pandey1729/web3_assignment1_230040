{
 "cells": [
  {
   "cell_type": "markdown",
   "metadata": {},
   "source": [
    "importing required libraries"
   ]
  },
  {
   "cell_type": "code",
   "execution_count": 134,
   "metadata": {},
   "outputs": [],
   "source": [
    "import json\n",
    "import os\n",
    "import time\n",
    "import hashlib"
   ]
  },
  {
   "cell_type": "markdown",
   "metadata": {},
   "source": [
    "Constants"
   ]
  },
  {
   "cell_type": "code",
   "execution_count": 135,
   "metadata": {},
   "outputs": [],
   "source": [
    "VERSION = '1'\n",
    "PREV_BLOCK_HASH = '0000111100000000000000000000000000000000000000000000000000000000'\n",
    "DIFFICULTY_TARGET = '0000ffff00000000000000000000000000000000000000000000000000000000'\n",
    "COINBASE_REWARD = 50\n",
    "COINBASE_TXID = 'unique_coinbase_txid'\n",
    "total_fees = 0"
   ]
  },
  {
   "cell_type": "markdown",
   "metadata": {},
   "source": [
    "Helper function to calculate the Merkle root"
   ]
  },
  {
   "cell_type": "code",
   "execution_count": 136,
   "metadata": {},
   "outputs": [],
   "source": [
    "def merkle_root(txids): \n",
    "    # If the list of txids is empty, return a dummy value\n",
    "    if not txids: \n",
    "        return '0'*64\n",
    "    # If there is only one txid, return it as the root\n",
    "    if len(txids) == 1: \n",
    "        return txids[0]\n",
    "    # If the number of txids is odd, duplicate the last one\n",
    "    if len(txids) % 2 == 1: \n",
    "        txids.append(txids[-1])\n",
    "    # Recursively calculate the next level of the tree\n",
    "    new_txids = []\n",
    "    for i in range(0, len(txids), 2): \n",
    "        new_txids.append(hashlib.sha256((txids[i] + txids[i+1]).encode()).hexdigest())\n",
    "    return merkle_root(new_txids)"
   ]
  },
  {
   "cell_type": "markdown",
   "metadata": {},
   "source": [
    "Function to validate a transaction"
   ]
  },
  {
   "cell_type": "code",
   "execution_count": 137,
   "metadata": {},
   "outputs": [],
   "source": [
    "def validate_transaction(transaction): \n",
    "    # Extract the integer value if 'prevout' or 'vout' is a dictionary containing an integer value\n",
    "    prevout_value = sum([prevout.get('value', 0) for prevout in transaction.get('prevout', [])])\n",
    "    vout_value = sum([vout.get('value', 0) for vout in transaction.get('vout', [])])\n",
    "    txid = transaction.get('txid', '')\n",
    "    \n",
    "    # Calculate the transaction fee\n",
    "    fee = prevout_value - vout_value\n",
    "    \n",
    "    # Check if the transaction is valid (prevout > vout) and txid is not empty\n",
    "    is_valid = prevout_value > vout_value and bool(txid)\n",
    "    \n",
    "    # Return both the fee and whether the transaction is valid\n",
    "    return fee, is_valid"
   ]
  },
  {
   "cell_type": "markdown",
   "metadata": {},
   "source": [
    "Function to mine a block"
   ]
  },
  {
   "cell_type": "code",
   "execution_count": 138,
   "metadata": {},
   "outputs": [],
   "source": [
    "def mine_block(block_header): \n",
    "    nonce = 0\n",
    "    while True: \n",
    "        block_header['nonce'] = nonce\n",
    "        block_hash = hashlib.sha256(json.dumps(block_header).encode()).hexdigest()\n",
    "        if int(block_hash, 16) < int(DIFFICULTY_TARGET, 16): \n",
    "            return nonce, block_hash\n",
    "        nonce += 1"
   ]
  },
  {
   "cell_type": "markdown",
   "metadata": {},
   "source": [
    "Main function to read, validate, mine, and output block details"
   ]
  },
  {
   "cell_type": "code",
   "execution_count": 139,
   "metadata": {},
   "outputs": [],
   "source": [
    "def main(): \n",
    "    transactions = []\n",
    "    total_fees = 0\n",
    "    for filename in os.listdir('mempool'): \n",
    "        if filename.endswith('.json'): \n",
    "            with open(os.path.join('mempool', filename), 'r') as file: \n",
    "                transaction = json.load(file)\n",
    "                fee, is_valid = validate_transaction(transaction)\n",
    "                if is_valid: \n",
    "                    transactions.append(transaction.get('txid', ''))\n",
    "                    total_fees += fee"
   ]
  },
  {
   "cell_type": "markdown",
   "metadata": {},
   "source": [
    "Define the coinbase transaction"
   ]
  },
  {
   "cell_type": "code",
   "execution_count": 140,
   "metadata": {},
   "outputs": [],
   "source": [
    "coinbase_transaction = {\n",
    "        'txid':  'unique_coinbase_txid',\n",
    "        'vin':  [{'coinbase':  'data'}],\n",
    "        'vout':  [{'value':  COINBASE_REWARD + total_fees}]\n",
    "    }"
   ]
  },
  {
   "cell_type": "markdown",
   "metadata": {},
   "source": [
    "Insert the coinbase transaction at the beginning of the transactions list"
   ]
  },
  {
   "cell_type": "code",
   "execution_count": 141,
   "metadata": {},
   "outputs": [],
   "source": [
    "transactions.insert(0, coinbase_transaction['txid'])"
   ]
  },
  {
   "cell_type": "markdown",
   "metadata": {},
   "source": [
    "Construct the block"
   ]
  },
  {
   "cell_type": "code",
   "execution_count": 142,
   "metadata": {},
   "outputs": [],
   "source": [
    "block_header = {\n",
    "        'version':  VERSION,\n",
    "        'previous_block_hash':  PREV_BLOCK_HASH,\n",
    "        'merkle_root':  merkle_root(transactions),\n",
    "        'timestamp':  int(time.time()),\n",
    "        'difficulty_target':  DIFFICULTY_TARGET,\n",
    "        'nonce':  0  # Placeholder for nonce\n",
    "    }"
   ]
  },
  {
   "cell_type": "markdown",
   "metadata": {},
   "source": [
    "Mine the block"
   ]
  },
  {
   "cell_type": "code",
   "execution_count": 143,
   "metadata": {},
   "outputs": [],
   "source": [
    "nonce, block_hash = mine_block(block_header)"
   ]
  },
  {
   "cell_type": "markdown",
   "metadata": {},
   "source": [
    "serialise the block header"
   ]
  },
  {
   "cell_type": "code",
   "execution_count": 144,
   "metadata": {},
   "outputs": [],
   "source": [
    "block_header_serialized = json.dumps({\n",
    "        \"version\":  VERSION,\n",
    "        \"previous_block_hash\":  PREV_BLOCK_HASH,\n",
    "        \"merkle_root\":  merkle_root(transactions),\n",
    "        \"timestamp\":  int(time.time()),\n",
    "        \"difficulty_target\":  DIFFICULTY_TARGET,\n",
    "        \"nonce\":  nonce\n",
    "    }, indent=2)"
   ]
  },
  {
   "cell_type": "markdown",
   "metadata": {},
   "source": [
    "serialise the coinbase transaction"
   ]
  },
  {
   "cell_type": "code",
   "execution_count": 145,
   "metadata": {},
   "outputs": [],
   "source": [
    "coinbase_transaction_serialized = json.dumps({\n",
    "        \"txid\":  COINBASE_TXID,\n",
    "        \"vin\":  [{\n",
    "            \"coinbase\":  \"04ffff001d0104455468652054696d65732030332f4a616e2f32303233204368616e63656c6c6f72206f6e20626974636f696e2062756c6c\",\n",
    "            \"sequence\":  4294967295\n",
    "        }],\n",
    "        \"vout\":  [{\n",
    "            \"value\":  COINBASE_REWARD,\n",
    "            \"scriptPubKey\":  \"4104678afdb0fe5548271967f1a67130b7105cd6a828e03909a67962e0ea1f61deb649f6bc3f4cef38c4f35504e51ec112de5c384df7ba0b8d578a4c702b6bf11d5fac\"\n",
    "        }]\n",
    "    }, indent=2)"
   ]
  },
  {
   "cell_type": "markdown",
   "metadata": {},
   "source": [
    "Output the block details"
   ]
  },
  {
   "cell_type": "code",
   "execution_count": 146,
   "metadata": {},
   "outputs": [
    {
     "name": "stdout",
     "output_type": "stream",
     "text": [
      "Block mined and output.txt created successfully.\n"
     ]
    }
   ],
   "source": [
    "with open('output.txt', 'w') as file: \n",
    "        file.write(\"Block Header: \\n\")\n",
    "        file.write(block_header_serialized + \"\\n\\n\")\n",
    "        file.write(\"Serialized Coinbase Transaction: \\n\")\n",
    "        file.write(coinbase_transaction_serialized + \"\\n\\n\")\n",
    "        file.write(\"Transaction IDs: \\n\")\n",
    "        for txid in transactions: \n",
    "            file.write(txid + \"\\n\")\n",
    "\n",
    "print(\"Block mined and output.txt created successfully.\")"
   ]
  },
  {
   "cell_type": "markdown",
   "metadata": {},
   "source": [
    "Create run.sh"
   ]
  },
  {
   "cell_type": "code",
   "execution_count": 147,
   "metadata": {},
   "outputs": [
    {
     "name": "stdout",
     "output_type": "stream",
     "text": [
      "Block mined and output.txt created successfully.\n"
     ]
    }
   ],
   "source": [
    "with open('run.sh', 'w') as file: \n",
    "        file.write('#!/bin/bash\\n')\n",
    "        file.write('python main.py\\n')\n",
    "\n",
    "print(\"Block mined and output.txt created successfully.\")"
   ]
  },
  {
   "cell_type": "code",
   "execution_count": 148,
   "metadata": {},
   "outputs": [],
   "source": [
    "if __name__ == '__main__': \n",
    "    main()"
   ]
  }
 ],
 "metadata": {
  "kernelspec": {
   "display_name": "base",
   "language": "python",
   "name": "python3"
  },
  "language_info": {
   "codemirror_mode": {
    "name": "ipython",
    "version": 3
   },
   "file_extension": ".py",
   "mimetype": "text/x-python",
   "name": "python",
   "nbconvert_exporter": "python",
   "pygments_lexer": "ipython3",
   "version": "3.11.7"
  }
 },
 "nbformat": 4,
 "nbformat_minor": 2
}
